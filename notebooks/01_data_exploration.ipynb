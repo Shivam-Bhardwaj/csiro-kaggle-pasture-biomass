{
  "cells": [
    {
      "cell_type": "markdown",
      "metadata": {},
      "source": [
        "# Data Exploration\n",
        "\n",
        "This notebook explores the CSIRO Pasture Biomass Estimation dataset.\n"
      ]
    },
    {
      "cell_type": "code",
      "execution_count": null,
      "metadata": {},
      "outputs": [],
      "source": [
        "import pandas as pd\n",
        "import numpy as np\n",
        "import matplotlib.pyplot as plt\n",
        "import seaborn as sns\n",
        "from pathlib import Path\n",
        "import cv2\n",
        "from PIL import Image\n",
        "\n",
        "# Set style\n",
        "sns.set_style('whitegrid')\n",
        "plt.rcParams['figure.figsize'] = (12, 8)\n"
      ]
    },
    {
      "cell_type": "code",
      "execution_count": null,
      "metadata": {},
      "outputs": [],
      "source": [
        "# Load data\n",
        "data_dir = Path('../data/raw')\n",
        "train_df = pd.read_csv(data_dir / 'train.csv')\n",
        "\n",
        "print(f\"Training samples: {len(train_df)}\")\n",
        "print(f\"Columns: {train_df.columns.tolist()}\")\n",
        "train_df.head()\n"
      ]
    },
    {
      "cell_type": "code",
      "execution_count": null,
      "metadata": {},
      "outputs": [],
      "source": [
        "# Basic statistics\n",
        "train_df.describe()\n"
      ]
    },
    {
      "cell_type": "code",
      "execution_count": null,
      "metadata": {},
      "outputs": [],
      "source": [
        "# Visualize target distribution\n",
        "if 'biomass' in train_df.columns:\n",
        "    plt.figure(figsize=(10, 6))\n",
        "    plt.hist(train_df['biomass'], bins=50, edgecolor='black')\n",
        "    plt.xlabel('Biomass')\n",
        "    plt.ylabel('Frequency')\n",
        "    plt.title('Distribution of Pasture Biomass')\n",
        "    plt.show()\n"
      ]
    },
    {
      "cell_type": "code",
      "execution_count": null,
      "metadata": {},
      "outputs": [],
      "source": [
        "# Visualize sample images\n",
        "image_dir = data_dir / 'images'\n",
        "if image_dir.exists():\n",
        "    sample_images = train_df.head(9)\n",
        "    fig, axes = plt.subplots(3, 3, figsize=(15, 15))\n",
        "    for idx, (_, row) in enumerate(sample_images.iterrows()):\n",
        "        ax = axes[idx // 3, idx % 3]\n",
        "        # TODO: Load and display image based on dataset structure\n",
        "        ax.axis('off')\n",
        "    plt.tight_layout()\n",
        "    plt.show()\n"
      ]
    }
  ],
  "metadata": {
    "language_info": {
      "name": "python"
    }
  },
  "nbformat": 4,
  "nbformat_minor": 2
}
